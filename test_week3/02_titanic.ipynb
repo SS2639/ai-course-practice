https://colab.research.google.com/drive/1bCxb-Ox59I1YNVq0FCr9SFzrO6q9msQz
